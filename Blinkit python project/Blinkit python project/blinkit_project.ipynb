{
 "cells": [
  {
   "cell_type": "markdown",
   "id": "a03b6638",
   "metadata": {},
   "source": [
    "# Blinkit project with python "
   ]
  },
  {
   "cell_type": "code",
   "execution_count": 2,
   "id": "1be8fbb1",
   "metadata": {},
   "outputs": [],
   "source": [
    "import pandas as pd \n",
    "import numpy as np \n",
    "import matplotlib.pyplot as plt\n",
    "import seaborn as sns"
   ]
  },
  {
   "cell_type": "code",
   "execution_count": 3,
   "id": "f288302d",
   "metadata": {},
   "outputs": [
    {
     "data": {
      "text/plain": [
       "(8523, 12)"
      ]
     },
     "execution_count": 3,
     "metadata": {},
     "output_type": "execute_result"
    }
   ],
   "source": [
    "df=pd.read_csv(r\"C:\\Codes\\data analytics udemy\\Blinkit python project\\blinkit_data.csv\")\n",
    "df.head(20)\n",
    "df.shape"
   ]
  },
  {
   "cell_type": "markdown",
   "id": "b7af694f",
   "metadata": {},
   "source": [
    "### now analysing data "
   ]
  },
  {
   "cell_type": "code",
   "execution_count": 4,
   "id": "3f941e9a",
   "metadata": {},
   "outputs": [
    {
     "name": "stdout",
     "output_type": "stream",
     "text": [
      "<class 'pandas.core.frame.DataFrame'>\n",
      "RangeIndex: 8523 entries, 0 to 8522\n",
      "Data columns (total 12 columns):\n",
      " #   Column                     Non-Null Count  Dtype  \n",
      "---  ------                     --------------  -----  \n",
      " 0   Item Fat Content           8523 non-null   object \n",
      " 1   Item Identifier            8523 non-null   object \n",
      " 2   Item Type                  8523 non-null   object \n",
      " 3   Outlet Establishment Year  8523 non-null   int64  \n",
      " 4   Outlet Identifier          8523 non-null   object \n",
      " 5   Outlet Location Type       8523 non-null   object \n",
      " 6   Outlet Size                8523 non-null   object \n",
      " 7   Outlet Type                8523 non-null   object \n",
      " 8   Item Visibility            8523 non-null   float64\n",
      " 9   Item Weight                7060 non-null   float64\n",
      " 10  Sales                      8523 non-null   float64\n",
      " 11  Rating                     8523 non-null   float64\n",
      "dtypes: float64(4), int64(1), object(7)\n",
      "memory usage: 799.2+ KB\n"
     ]
    }
   ],
   "source": [
    "#summary of data set\n",
    "df.info()"
   ]
  },
  {
   "cell_type": "markdown",
   "id": "e17f89e5",
   "metadata": {},
   "source": [
    "OBS : we can change est year data type to year from int64 here but in dataset date is in whole number in years so int64 can also be okay if we dont change\n"
   ]
  },
  {
   "cell_type": "markdown",
   "id": "b0a5663b",
   "metadata": {},
   "source": [
    "### size of data"
   ]
  },
  {
   "cell_type": "code",
   "execution_count": 5,
   "id": "204fff2e",
   "metadata": {},
   "outputs": [
    {
     "name": "stdout",
     "output_type": "stream",
     "text": [
      "size of data: (8523, 12)\n"
     ]
    }
   ],
   "source": [
    "print(\"size of data:\", df.shape)"
   ]
  },
  {
   "cell_type": "markdown",
   "id": "f7bd235d",
   "metadata": {},
   "source": [
    "### checking null values"
   ]
  },
  {
   "cell_type": "code",
   "execution_count": 6,
   "id": "7e5b393f",
   "metadata": {},
   "outputs": [
    {
     "data": {
      "text/plain": [
       "Item Fat Content                0\n",
       "Item Identifier                 0\n",
       "Item Type                       0\n",
       "Outlet Establishment Year       0\n",
       "Outlet Identifier               0\n",
       "Outlet Location Type            0\n",
       "Outlet Size                     0\n",
       "Outlet Type                     0\n",
       "Item Visibility                 0\n",
       "Item Weight                  1463\n",
       "Sales                           0\n",
       "Rating                          0\n",
       "dtype: int64"
      ]
     },
     "execution_count": 6,
     "metadata": {},
     "output_type": "execute_result"
    }
   ],
   "source": [
    "df.isnull().sum()"
   ]
  },
  {
   "cell_type": "markdown",
   "id": "fb2241c9",
   "metadata": {},
   "source": [
    "OBS: null values only in weight column so i have to handle it later"
   ]
  },
  {
   "cell_type": "markdown",
   "id": "23d5f791",
   "metadata": {},
   "source": [
    "## DATA CLEANING "
   ]
  },
  {
   "cell_type": "code",
   "execution_count": 7,
   "id": "3c61b773",
   "metadata": {},
   "outputs": [],
   "source": [
    "df_copy=df.copy() #making changes only in copy data so original data dont change"
   ]
  },
  {
   "cell_type": "markdown",
   "id": "7bf21442",
   "metadata": {},
   "source": [
    "#### as i see form dataset that item fat column has some errors in name so fixing that now"
   ]
  },
  {
   "cell_type": "code",
   "execution_count": 8,
   "id": "226353f3",
   "metadata": {},
   "outputs": [
    {
     "name": "stdout",
     "output_type": "stream",
     "text": [
      "['Regular' 'Low Fat' 'low fat' 'LF' 'reg']\n",
      "Item Fat Content\n",
      "Low Fat    5089\n",
      "Regular    2889\n",
      "LF          316\n",
      "reg         117\n",
      "low fat     112\n",
      "Name: count, dtype: int64\n"
     ]
    }
   ],
   "source": [
    "print(df_copy['Item Fat Content'].unique())\n",
    "print(df_copy['Item Fat Content'].value_counts()) # checking count to understand \n",
    "#what is more frequent name so we can replace which is less frequent\n"
   ]
  },
  {
   "cell_type": "code",
   "execution_count": 9,
   "id": "73ddfe11",
   "metadata": {},
   "outputs": [],
   "source": [
    "# df_copy['Item Fat Content']=df_copy['Item Fat Content'].replace('LF','Low Fat')\n",
    "# df_copy['Item Fat Content']=df_copy['Item Fat Content'].str.replace('low fat','Low Fat')\n",
    "# df_copy['Item Fat Content']=df_copy['Item Fat Content'].str.replace('reg','Regular')\n",
    "\n",
    "# OR  use dictionary in replace\n",
    "df_copy['Item Fat Content']=df_copy['Item Fat Content'].replace({'LF':'Low Fat',\n",
    "                                                                 'low fat':'Low Fat',\n",
    "                                                                 'reg':'Regular'\n",
    "                                                                 })\n",
    "\n"
   ]
  },
  {
   "cell_type": "code",
   "execution_count": 10,
   "id": "112a96ff",
   "metadata": {},
   "outputs": [
    {
     "name": "stdout",
     "output_type": "stream",
     "text": [
      "['Regular' 'Low Fat']\n"
     ]
    }
   ],
   "source": [
    "#to show changes happen \n",
    "print(df_copy['Item Fat Content'].unique())"
   ]
  },
  {
   "cell_type": "code",
   "execution_count": 11,
   "id": "70d2213a",
   "metadata": {},
   "outputs": [
    {
     "data": {
      "text/html": [
       "<div>\n",
       "<style scoped>\n",
       "    .dataframe tbody tr th:only-of-type {\n",
       "        vertical-align: middle;\n",
       "    }\n",
       "\n",
       "    .dataframe tbody tr th {\n",
       "        vertical-align: top;\n",
       "    }\n",
       "\n",
       "    .dataframe thead th {\n",
       "        text-align: right;\n",
       "    }\n",
       "</style>\n",
       "<table border=\"1\" class=\"dataframe\">\n",
       "  <thead>\n",
       "    <tr style=\"text-align: right;\">\n",
       "      <th></th>\n",
       "      <th>Item Fat Content</th>\n",
       "      <th>Item Identifier</th>\n",
       "      <th>Item Type</th>\n",
       "      <th>Outlet Establishment Year</th>\n",
       "      <th>Outlet Identifier</th>\n",
       "      <th>Outlet Location Type</th>\n",
       "      <th>Outlet Size</th>\n",
       "      <th>Outlet Type</th>\n",
       "      <th>Item Visibility</th>\n",
       "      <th>Item Weight</th>\n",
       "      <th>Sales</th>\n",
       "      <th>Rating</th>\n",
       "    </tr>\n",
       "  </thead>\n",
       "  <tbody>\n",
       "    <tr>\n",
       "      <th>0</th>\n",
       "      <td>Regular</td>\n",
       "      <td>FDX32</td>\n",
       "      <td>Fruits and Vegetables</td>\n",
       "      <td>2012</td>\n",
       "      <td>OUT049</td>\n",
       "      <td>Tier 1</td>\n",
       "      <td>Medium</td>\n",
       "      <td>Supermarket Type1</td>\n",
       "      <td>0.100014</td>\n",
       "      <td>15.10</td>\n",
       "      <td>145.4786</td>\n",
       "      <td>5.0</td>\n",
       "    </tr>\n",
       "    <tr>\n",
       "      <th>1</th>\n",
       "      <td>Low Fat</td>\n",
       "      <td>NCB42</td>\n",
       "      <td>Health and Hygiene</td>\n",
       "      <td>2022</td>\n",
       "      <td>OUT018</td>\n",
       "      <td>Tier 3</td>\n",
       "      <td>Medium</td>\n",
       "      <td>Supermarket Type2</td>\n",
       "      <td>0.008596</td>\n",
       "      <td>11.80</td>\n",
       "      <td>115.3492</td>\n",
       "      <td>5.0</td>\n",
       "    </tr>\n",
       "    <tr>\n",
       "      <th>2</th>\n",
       "      <td>Regular</td>\n",
       "      <td>FDR28</td>\n",
       "      <td>Frozen Foods</td>\n",
       "      <td>2010</td>\n",
       "      <td>OUT046</td>\n",
       "      <td>Tier 1</td>\n",
       "      <td>Small</td>\n",
       "      <td>Supermarket Type1</td>\n",
       "      <td>0.025896</td>\n",
       "      <td>13.85</td>\n",
       "      <td>165.0210</td>\n",
       "      <td>5.0</td>\n",
       "    </tr>\n",
       "    <tr>\n",
       "      <th>3</th>\n",
       "      <td>Regular</td>\n",
       "      <td>FDL50</td>\n",
       "      <td>Canned</td>\n",
       "      <td>2000</td>\n",
       "      <td>OUT013</td>\n",
       "      <td>Tier 3</td>\n",
       "      <td>High</td>\n",
       "      <td>Supermarket Type1</td>\n",
       "      <td>0.042278</td>\n",
       "      <td>12.15</td>\n",
       "      <td>126.5046</td>\n",
       "      <td>5.0</td>\n",
       "    </tr>\n",
       "    <tr>\n",
       "      <th>4</th>\n",
       "      <td>Low Fat</td>\n",
       "      <td>DRI25</td>\n",
       "      <td>Soft Drinks</td>\n",
       "      <td>2015</td>\n",
       "      <td>OUT045</td>\n",
       "      <td>Tier 2</td>\n",
       "      <td>Small</td>\n",
       "      <td>Supermarket Type1</td>\n",
       "      <td>0.033970</td>\n",
       "      <td>19.60</td>\n",
       "      <td>55.1614</td>\n",
       "      <td>5.0</td>\n",
       "    </tr>\n",
       "  </tbody>\n",
       "</table>\n",
       "</div>"
      ],
      "text/plain": [
       "  Item Fat Content Item Identifier              Item Type  \\\n",
       "0          Regular           FDX32  Fruits and Vegetables   \n",
       "1          Low Fat           NCB42     Health and Hygiene   \n",
       "2          Regular           FDR28           Frozen Foods   \n",
       "3          Regular           FDL50                 Canned   \n",
       "4          Low Fat           DRI25            Soft Drinks   \n",
       "\n",
       "   Outlet Establishment Year Outlet Identifier Outlet Location Type  \\\n",
       "0                       2012            OUT049               Tier 1   \n",
       "1                       2022            OUT018               Tier 3   \n",
       "2                       2010            OUT046               Tier 1   \n",
       "3                       2000            OUT013               Tier 3   \n",
       "4                       2015            OUT045               Tier 2   \n",
       "\n",
       "  Outlet Size        Outlet Type  Item Visibility  Item Weight     Sales  \\\n",
       "0      Medium  Supermarket Type1         0.100014        15.10  145.4786   \n",
       "1      Medium  Supermarket Type2         0.008596        11.80  115.3492   \n",
       "2       Small  Supermarket Type1         0.025896        13.85  165.0210   \n",
       "3        High  Supermarket Type1         0.042278        12.15  126.5046   \n",
       "4       Small  Supermarket Type1         0.033970        19.60   55.1614   \n",
       "\n",
       "   Rating  \n",
       "0     5.0  \n",
       "1     5.0  \n",
       "2     5.0  \n",
       "3     5.0  \n",
       "4     5.0  "
      ]
     },
     "execution_count": 11,
     "metadata": {},
     "output_type": "execute_result"
    }
   ],
   "source": [
    "df_copy.head(5)"
   ]
  },
  {
   "cell_type": "code",
   "execution_count": 12,
   "id": "449d1288",
   "metadata": {},
   "outputs": [
    {
     "data": {
      "text/plain": [
       "<Axes: xlabel='Item Weight', ylabel='Count'>"
      ]
     },
     "execution_count": 12,
     "metadata": {},
     "output_type": "execute_result"
    },
    {
     "data": {
      "image/png": "[encoded data removed]",
      "text/plain": [
       "<Figure size 640x480 with 1 Axes>"
      ]
     },
     "metadata": {},
     "output_type": "display_data"
    }
   ],
   "source": [
    "sns.histplot(df_copy['Item Weight'],kde=True)"
   ]
  },
  {
   "cell_type": "markdown",
   "id": "28158116",
   "metadata": {},
   "source": [
    "#### As seen by distribution of data we can use mean to fill null values instead of NAN"
   ]
  },
  {
   "cell_type": "code",
   "execution_count": 13,
   "id": "9f92af3b",
   "metadata": {},
   "outputs": [],
   "source": [
    "df_copy['Item Weight']=df_copy['Item Weight'].fillna(df_copy['Item Weight'].mean())"
   ]
  },
  {
   "cell_type": "code",
   "execution_count": 14,
   "id": "a12c14e2",
   "metadata": {},
   "outputs": [
    {
     "data": {
      "text/plain": [
       "np.int64(0)"
      ]
     },
     "execution_count": 14,
     "metadata": {},
     "output_type": "execute_result"
    }
   ],
   "source": [
    "df_copy['Item Weight'].isna().sum() #checking values filled or not"
   ]
  },
  {
   "cell_type": "code",
   "execution_count": 15,
   "id": "77178aea",
   "metadata": {},
   "outputs": [
    {
     "data": {
      "text/plain": [
       "array(['Medium', 'Small', 'High'], dtype=object)"
      ]
     },
     "execution_count": 15,
     "metadata": {},
     "output_type": "execute_result"
    }
   ],
   "source": [
    "df_copy['Outlet Size'].unique() "
   ]
  },
  {
   "cell_type": "markdown",
   "id": "e199928d",
   "metadata": {},
   "source": [
    "#### we can change high with large so more suitable"
   ]
  },
  {
   "cell_type": "code",
   "execution_count": 16,
   "id": "44fbcd1d",
   "metadata": {},
   "outputs": [],
   "source": [
    "df_copy['Outlet Size']=df_copy['Outlet Size'].replace('High','Large')"
   ]
  },
  {
   "cell_type": "code",
   "execution_count": 17,
   "id": "e91fede1",
   "metadata": {},
   "outputs": [
    {
     "data": {
      "text/plain": [
       "array(['Medium', 'Small', 'Large'], dtype=object)"
      ]
     },
     "execution_count": 17,
     "metadata": {},
     "output_type": "execute_result"
    }
   ],
   "source": [
    "df_copy['Outlet Size'].unique() #checking replaced or not"
   ]
  },
  {
   "cell_type": "markdown",
   "id": "2b27c9aa",
   "metadata": {},
   "source": [
    "#### cheking duplicates item"
   ]
  },
  {
   "cell_type": "code",
   "execution_count": 18,
   "id": "6c41c189",
   "metadata": {},
   "outputs": [
    {
     "data": {
      "text/plain": [
       "np.int64(0)"
      ]
     },
     "execution_count": 18,
     "metadata": {},
     "output_type": "execute_result"
    }
   ],
   "source": [
    "df_copy.duplicated().sum()"
   ]
  },
  {
   "cell_type": "markdown",
   "id": "1ffffb58",
   "metadata": {},
   "source": [
    "# Business Requirements"
   ]
  },
  {
   "cell_type": "markdown",
   "id": "086c09fe",
   "metadata": {},
   "source": [
    "# KPI Requirements as per pdf  "
   ]
  },
  {
   "cell_type": "code",
   "execution_count": 19,
   "id": "13a1314b",
   "metadata": {},
   "outputs": [
    {
     "name": "stdout",
     "output_type": "stream",
     "text": [
      "The total sale is : $1,201,681\n"
     ]
    }
   ],
   "source": [
    "# TOTAL SALES\n",
    "total_sales=df_copy['Sales'].sum()\n",
    "print(f\"The total sale is : ${total_sales:,.0f}\") # here .0f mean decimal ke baad kuch nhi"
   ]
  },
  {
   "cell_type": "code",
   "execution_count": 20,
   "id": "1be7c612",
   "metadata": {},
   "outputs": [
    {
     "name": "stdout",
     "output_type": "stream",
     "text": [
      "The total sale is : $141.0\n",
      "The total sale is : $8,523\n"
     ]
    }
   ],
   "source": [
    "# AVG REVENUE PER SALE\n",
    "total_orders=df_copy['Item Identifier'].count()\n",
    "avg_revenue=total_sales/total_orders\n",
    "print(f\"The total sale is : ${avg_revenue:,.1f}\")\n",
    "print(f\"The total sale is : ${total_orders:,.0f}\")"
   ]
  },
  {
   "cell_type": "code",
   "execution_count": 21,
   "id": "a68844c3",
   "metadata": {},
   "outputs": [
    {
     "name": "stdout",
     "output_type": "stream",
     "text": [
      "The total sale is : $4.0\n"
     ]
    }
   ],
   "source": [
    "#AVG Rating\n",
    "avg_rating=df_copy['Rating'].mean()\n",
    "print(f\"The total sale is : ${avg_rating:,.1f}\")\n"
   ]
  },
  {
   "cell_type": "markdown",
   "id": "587613b2",
   "metadata": {},
   "source": [
    "## Charts Requirements"
   ]
  },
  {
   "cell_type": "markdown",
   "id": "8fc62d7a",
   "metadata": {},
   "source": [
    "### Total Sales by Fat-content"
   ]
  },
  {
   "cell_type": "code",
   "execution_count": 22,
   "id": "e5bf25a6",
   "metadata": {},
   "outputs": [
    {
     "data": {
      "text/html": [
       "<div>\n",
       "<style scoped>\n",
       "    .dataframe tbody tr th:only-of-type {\n",
       "        vertical-align: middle;\n",
       "    }\n",
       "\n",
       "    .dataframe tbody tr th {\n",
       "        vertical-align: top;\n",
       "    }\n",
       "\n",
       "    .dataframe thead th {\n",
       "        text-align: right;\n",
       "    }\n",
       "</style>\n",
       "<table border=\"1\" class=\"dataframe\">\n",
       "  <thead>\n",
       "    <tr style=\"text-align: right;\">\n",
       "      <th></th>\n",
       "      <th>Item Fat Content</th>\n",
       "      <th>Item Identifier</th>\n",
       "      <th>Item Type</th>\n",
       "      <th>Outlet Establishment Year</th>\n",
       "      <th>Outlet Identifier</th>\n",
       "      <th>Outlet Location Type</th>\n",
       "      <th>Outlet Size</th>\n",
       "      <th>Outlet Type</th>\n",
       "      <th>Item Visibility</th>\n",
       "      <th>Item Weight</th>\n",
       "      <th>Sales</th>\n",
       "      <th>Rating</th>\n",
       "    </tr>\n",
       "  </thead>\n",
       "  <tbody>\n",
       "    <tr>\n",
       "      <th>0</th>\n",
       "      <td>Regular</td>\n",
       "      <td>FDX32</td>\n",
       "      <td>Fruits and Vegetables</td>\n",
       "      <td>2012</td>\n",
       "      <td>OUT049</td>\n",
       "      <td>Tier 1</td>\n",
       "      <td>Medium</td>\n",
       "      <td>Supermarket Type1</td>\n",
       "      <td>0.100014</td>\n",
       "      <td>15.10</td>\n",
       "      <td>145.4786</td>\n",
       "      <td>5.0</td>\n",
       "    </tr>\n",
       "    <tr>\n",
       "      <th>1</th>\n",
       "      <td>Low Fat</td>\n",
       "      <td>NCB42</td>\n",
       "      <td>Health and Hygiene</td>\n",
       "      <td>2022</td>\n",
       "      <td>OUT018</td>\n",
       "      <td>Tier 3</td>\n",
       "      <td>Medium</td>\n",
       "      <td>Supermarket Type2</td>\n",
       "      <td>0.008596</td>\n",
       "      <td>11.80</td>\n",
       "      <td>115.3492</td>\n",
       "      <td>5.0</td>\n",
       "    </tr>\n",
       "    <tr>\n",
       "      <th>2</th>\n",
       "      <td>Regular</td>\n",
       "      <td>FDR28</td>\n",
       "      <td>Frozen Foods</td>\n",
       "      <td>2010</td>\n",
       "      <td>OUT046</td>\n",
       "      <td>Tier 1</td>\n",
       "      <td>Small</td>\n",
       "      <td>Supermarket Type1</td>\n",
       "      <td>0.025896</td>\n",
       "      <td>13.85</td>\n",
       "      <td>165.0210</td>\n",
       "      <td>5.0</td>\n",
       "    </tr>\n",
       "    <tr>\n",
       "      <th>3</th>\n",
       "      <td>Regular</td>\n",
       "      <td>FDL50</td>\n",
       "      <td>Canned</td>\n",
       "      <td>2000</td>\n",
       "      <td>OUT013</td>\n",
       "      <td>Tier 3</td>\n",
       "      <td>Large</td>\n",
       "      <td>Supermarket Type1</td>\n",
       "      <td>0.042278</td>\n",
       "      <td>12.15</td>\n",
       "      <td>126.5046</td>\n",
       "      <td>5.0</td>\n",
       "    </tr>\n",
       "    <tr>\n",
       "      <th>4</th>\n",
       "      <td>Low Fat</td>\n",
       "      <td>DRI25</td>\n",
       "      <td>Soft Drinks</td>\n",
       "      <td>2015</td>\n",
       "      <td>OUT045</td>\n",
       "      <td>Tier 2</td>\n",
       "      <td>Small</td>\n",
       "      <td>Supermarket Type1</td>\n",
       "      <td>0.033970</td>\n",
       "      <td>19.60</td>\n",
       "      <td>55.1614</td>\n",
       "      <td>5.0</td>\n",
       "    </tr>\n",
       "  </tbody>\n",
       "</table>\n",
       "</div>"
      ],
      "text/plain": [
       "  Item Fat Content Item Identifier              Item Type  \\\n",
       "0          Regular           FDX32  Fruits and Vegetables   \n",
       "1          Low Fat           NCB42     Health and Hygiene   \n",
       "2          Regular           FDR28           Frozen Foods   \n",
       "3          Regular           FDL50                 Canned   \n",
       "4          Low Fat           DRI25            Soft Drinks   \n",
       "\n",
       "   Outlet Establishment Year Outlet Identifier Outlet Location Type  \\\n",
       "0                       2012            OUT049               Tier 1   \n",
       "1                       2022            OUT018               Tier 3   \n",
       "2                       2010            OUT046               Tier 1   \n",
       "3                       2000            OUT013               Tier 3   \n",
       "4                       2015            OUT045               Tier 2   \n",
       "\n",
       "  Outlet Size        Outlet Type  Item Visibility  Item Weight     Sales  \\\n",
       "0      Medium  Supermarket Type1         0.100014        15.10  145.4786   \n",
       "1      Medium  Supermarket Type2         0.008596        11.80  115.3492   \n",
       "2       Small  Supermarket Type1         0.025896        13.85  165.0210   \n",
       "3       Large  Supermarket Type1         0.042278        12.15  126.5046   \n",
       "4       Small  Supermarket Type1         0.033970        19.60   55.1614   \n",
       "\n",
       "   Rating  \n",
       "0     5.0  \n",
       "1     5.0  \n",
       "2     5.0  \n",
       "3     5.0  \n",
       "4     5.0  "
      ]
     },
     "execution_count": 22,
     "metadata": {},
     "output_type": "execute_result"
    }
   ],
   "source": [
    "df_copy.head(5)"
   ]
  },
  {
   "cell_type": "code",
   "execution_count": 23,
   "id": "5a046897",
   "metadata": {},
   "outputs": [
    {
     "data": {
      "image/png": "[encoded data removed]",
      "text/plain": [
       "<Figure size 640x480 with 1 Axes>"
      ]
     },
     "metadata": {},
     "output_type": "display_data"
    }
   ],
   "source": [
    "sales_by_fat=df_copy['Sales'].groupby(df_copy['Item Fat Content']).sum()\n",
    "# print(sales_by_fat)\n",
    "plt.pie(sales_by_fat,labels=sales_by_fat.index,autopct='%.1f%%',startangle=90)\n",
    "plt.show()\n"
   ]
  },
  {
   "cell_type": "markdown",
   "id": "2c1380d3",
   "metadata": {},
   "source": [
    "#### total sales by item_type"
   ]
  },
  {
   "cell_type": "code",
   "execution_count": 24,
   "id": "4530b476",
   "metadata": {},
   "outputs": [
    {
     "data": {
      "image/png": "[encoded data removed]",
      "text/plain": [
       "<Figure size 1500x900 with 1 Axes>"
      ]
     },
     "metadata": {},
     "output_type": "display_data"
    }
   ],
   "source": [
    "sales_by_itemtype=df_copy['Sales'].groupby(df_copy['Item Type']).sum().sort_values(ascending=False)\n",
    "plt.figure(figsize=[15,9])\n",
    "sns.barplot(x=sales_by_itemtype.index,y=sales_by_itemtype.values,color='red')\n",
    "plt.xticks(rotation=25)\n",
    "plt.title('Total Sales by item_type')\n",
    "plt.show()"
   ]
  },
  {
   "cell_type": "markdown",
   "id": "00d40f3a",
   "metadata": {},
   "source": [
    "#### fat content by outlet for Total Sales "
   ]
  },
  {
   "cell_type": "code",
   "execution_count": 25,
   "id": "ca04e0b1",
   "metadata": {},
   "outputs": [
    {
     "data": {
      "image/png": "[encoded data removed]",
      "text/plain": [
       "<Figure size 640x480 with 1 Axes>"
      ]
     },
     "metadata": {},
     "output_type": "display_data"
    }
   ],
   "source": [
    "totalsales_by_outlets=df_copy.groupby(['Outlet Location Type','Item Fat Content'])['Sales'].sum().unstack()\n",
    "# sns.barplot(x=totalsales_by_outlets.index,y=totalsales_by_outlets.values)\n",
    "totalsales_by_outlets.plot(kind='bar',color=['red','blue'])\n",
    "\n",
    "plt.show()\n"
   ]
  },
  {
   "cell_type": "markdown",
   "id": "6c43c651",
   "metadata": {},
   "source": [
    "#### total sales by outlet establishement"
   ]
  },
  {
   "cell_type": "code",
   "execution_count": 26,
   "id": "e6ef03da",
   "metadata": {},
   "outputs": [
    {
     "data": {
      "image/png": "[encoded data removed]",
      "text/plain": [
       "<Figure size 640x480 with 1 Axes>"
      ]
     },
     "metadata": {},
     "output_type": "display_data"
    }
   ],
   "source": [
    "totalsales_outletest=df_copy.groupby('Outlet Establishment Year')['Sales'].sum()\n",
    "# totalsales_outletest\n",
    "# totalsales_outletest.plot(kind='line',marker='o')\n",
    "sns.lineplot(x=totalsales_outletest.index,y=totalsales_outletest.values,marker='s')\n",
    "\n",
    "plt.tight_layout()\n",
    "plt.show()"
   ]
  },
  {
   "cell_type": "markdown",
   "id": "7d24b737",
   "metadata": {},
   "source": [
    "#### sales by outlet size"
   ]
  },
  {
   "cell_type": "code",
   "execution_count": 27,
   "id": "05251dbc",
   "metadata": {},
   "outputs": [
    {
     "data": {
      "image/png": "[encoded data removed]",
      "text/plain": [
       "<Figure size 640x480 with 1 Axes>"
      ]
     },
     "metadata": {},
     "output_type": "display_data"
    }
   ],
   "source": [
    "sales_by_outletsize=df_copy.groupby('Outlet Size')['Sales'].sum().sort_values()\n",
    "# sales_by_outletsize.plot(kind='pie')\n",
    "plt.pie(sales_by_outletsize,startangle=90,labels=sales_by_outletsize.index,autopct='%.1f%%')\n",
    "plt.tight_layout()\n",
    "plt.show()\n"
   ]
  },
  {
   "cell_type": "markdown",
   "id": "e1139db4",
   "metadata": {},
   "source": [
    "# ML part starts"
   ]
  },
  {
   "cell_type": "code",
   "execution_count": 28,
   "id": "da0ca48d",
   "metadata": {},
   "outputs": [],
   "source": [
    "# Assuming the data is up to 2025 so addding outlet age column which is better for model\n",
    "df_copy['Outlet Age'] = 2025 - df_copy['Outlet Establishment Year']\n"
   ]
  },
  {
   "cell_type": "code",
   "execution_count": 29,
   "id": "61419b38",
   "metadata": {},
   "outputs": [],
   "source": [
    "df_copy['Item Category'] = df_copy['Item Identifier'].apply(lambda x: x[0:2])\n",
    "# Now map these to more readable names\n",
    "df_copy['Item Category'] = df_copy['Item Category'].map({\n",
    "    'FD': 'Food',\n",
    "    'DR': 'Drinks',\n",
    "    'NC': 'Non-Consumable'\n",
    "})\n",
    "\n",
    "\n"
   ]
  },
  {
   "cell_type": "code",
   "execution_count": 30,
   "id": "75d57778",
   "metadata": {},
   "outputs": [],
   "source": [
    "df_copy=df_copy.drop(['Outlet Establishment Year','Item Identifier'],axis=1)"
   ]
  },
  {
   "cell_type": "markdown",
   "id": "5a8ec822",
   "metadata": {},
   "source": [
    "## standrisation and encoding start here"
   ]
  },
  {
   "cell_type": "code",
   "execution_count": 31,
   "id": "6ee0ef6a",
   "metadata": {},
   "outputs": [],
   "source": [
    "from sklearn.preprocessing import LabelEncoder\n",
    "\n",
    "le = LabelEncoder()\n",
    "df_copy['Outlet Size'] = le.fit_transform(df_copy['Outlet Size'])\n",
    "# This will convert ['Small', 'Medium', 'High'] to [2, 1, 0] or similar. Check the mapping!\n",
    "\n",
    "# Select categorical columns for one-hot encoding\n",
    "categorical_cols = df_copy.select_dtypes(include=['object']).columns\n",
    "\n",
    "# Use pandas get_dummies for simplicity\n",
    "df_copy = pd.get_dummies(df_copy, columns=categorical_cols, drop_first=True)\n",
    "# drop_first=True helps avoid multicollinearity"
   ]
  },
  {
   "cell_type": "code",
   "execution_count": 32,
   "id": "035c3256",
   "metadata": {},
   "outputs": [
    {
     "data": {
      "text/html": [
       "<div>\n",
       "<style scoped>\n",
       "    .dataframe tbody tr th:only-of-type {\n",
       "        vertical-align: middle;\n",
       "    }\n",
       "\n",
       "    .dataframe tbody tr th {\n",
       "        vertical-align: top;\n",
       "    }\n",
       "\n",
       "    .dataframe thead th {\n",
       "        text-align: right;\n",
       "    }\n",
       "</style>\n",
       "<table border=\"1\" class=\"dataframe\">\n",
       "  <thead>\n",
       "    <tr style=\"text-align: right;\">\n",
       "      <th></th>\n",
       "      <th>Outlet Size</th>\n",
       "      <th>Item Visibility</th>\n",
       "      <th>Item Weight</th>\n",
       "      <th>Sales</th>\n",
       "      <th>Rating</th>\n",
       "      <th>Outlet Age</th>\n",
       "      <th>Item Fat Content_Regular</th>\n",
       "      <th>Item Type_Breads</th>\n",
       "      <th>Item Type_Breakfast</th>\n",
       "      <th>Item Type_Canned</th>\n",
       "      <th>...</th>\n",
       "      <th>Outlet Identifier_OUT045</th>\n",
       "      <th>Outlet Identifier_OUT046</th>\n",
       "      <th>Outlet Identifier_OUT049</th>\n",
       "      <th>Outlet Location Type_Tier 2</th>\n",
       "      <th>Outlet Location Type_Tier 3</th>\n",
       "      <th>Outlet Type_Supermarket Type1</th>\n",
       "      <th>Outlet Type_Supermarket Type2</th>\n",
       "      <th>Outlet Type_Supermarket Type3</th>\n",
       "      <th>Item Category_Food</th>\n",
       "      <th>Item Category_Non-Consumable</th>\n",
       "    </tr>\n",
       "  </thead>\n",
       "  <tbody>\n",
       "    <tr>\n",
       "      <th>0</th>\n",
       "      <td>1</td>\n",
       "      <td>0.100014</td>\n",
       "      <td>15.10</td>\n",
       "      <td>145.4786</td>\n",
       "      <td>5.0</td>\n",
       "      <td>13</td>\n",
       "      <td>True</td>\n",
       "      <td>False</td>\n",
       "      <td>False</td>\n",
       "      <td>False</td>\n",
       "      <td>...</td>\n",
       "      <td>False</td>\n",
       "      <td>False</td>\n",
       "      <td>True</td>\n",
       "      <td>False</td>\n",
       "      <td>False</td>\n",
       "      <td>True</td>\n",
       "      <td>False</td>\n",
       "      <td>False</td>\n",
       "      <td>True</td>\n",
       "      <td>False</td>\n",
       "    </tr>\n",
       "    <tr>\n",
       "      <th>1</th>\n",
       "      <td>1</td>\n",
       "      <td>0.008596</td>\n",
       "      <td>11.80</td>\n",
       "      <td>115.3492</td>\n",
       "      <td>5.0</td>\n",
       "      <td>3</td>\n",
       "      <td>False</td>\n",
       "      <td>False</td>\n",
       "      <td>False</td>\n",
       "      <td>False</td>\n",
       "      <td>...</td>\n",
       "      <td>False</td>\n",
       "      <td>False</td>\n",
       "      <td>False</td>\n",
       "      <td>False</td>\n",
       "      <td>True</td>\n",
       "      <td>False</td>\n",
       "      <td>True</td>\n",
       "      <td>False</td>\n",
       "      <td>False</td>\n",
       "      <td>True</td>\n",
       "    </tr>\n",
       "    <tr>\n",
       "      <th>2</th>\n",
       "      <td>2</td>\n",
       "      <td>0.025896</td>\n",
       "      <td>13.85</td>\n",
       "      <td>165.0210</td>\n",
       "      <td>5.0</td>\n",
       "      <td>15</td>\n",
       "      <td>True</td>\n",
       "      <td>False</td>\n",
       "      <td>False</td>\n",
       "      <td>False</td>\n",
       "      <td>...</td>\n",
       "      <td>False</td>\n",
       "      <td>True</td>\n",
       "      <td>False</td>\n",
       "      <td>False</td>\n",
       "      <td>False</td>\n",
       "      <td>True</td>\n",
       "      <td>False</td>\n",
       "      <td>False</td>\n",
       "      <td>True</td>\n",
       "      <td>False</td>\n",
       "    </tr>\n",
       "    <tr>\n",
       "      <th>3</th>\n",
       "      <td>0</td>\n",
       "      <td>0.042278</td>\n",
       "      <td>12.15</td>\n",
       "      <td>126.5046</td>\n",
       "      <td>5.0</td>\n",
       "      <td>25</td>\n",
       "      <td>True</td>\n",
       "      <td>False</td>\n",
       "      <td>False</td>\n",
       "      <td>True</td>\n",
       "      <td>...</td>\n",
       "      <td>False</td>\n",
       "      <td>False</td>\n",
       "      <td>False</td>\n",
       "      <td>False</td>\n",
       "      <td>True</td>\n",
       "      <td>True</td>\n",
       "      <td>False</td>\n",
       "      <td>False</td>\n",
       "      <td>True</td>\n",
       "      <td>False</td>\n",
       "    </tr>\n",
       "    <tr>\n",
       "      <th>4</th>\n",
       "      <td>2</td>\n",
       "      <td>0.033970</td>\n",
       "      <td>19.60</td>\n",
       "      <td>55.1614</td>\n",
       "      <td>5.0</td>\n",
       "      <td>10</td>\n",
       "      <td>False</td>\n",
       "      <td>False</td>\n",
       "      <td>False</td>\n",
       "      <td>False</td>\n",
       "      <td>...</td>\n",
       "      <td>True</td>\n",
       "      <td>False</td>\n",
       "      <td>False</td>\n",
       "      <td>True</td>\n",
       "      <td>False</td>\n",
       "      <td>True</td>\n",
       "      <td>False</td>\n",
       "      <td>False</td>\n",
       "      <td>False</td>\n",
       "      <td>False</td>\n",
       "    </tr>\n",
       "  </tbody>\n",
       "</table>\n",
       "<p>5 rows × 38 columns</p>\n",
       "</div>"
      ],
      "text/plain": [
       "   Outlet Size  Item Visibility  Item Weight     Sales  Rating  Outlet Age  \\\n",
       "0            1         0.100014        15.10  145.4786     5.0          13   \n",
       "1            1         0.008596        11.80  115.3492     5.0           3   \n",
       "2            2         0.025896        13.85  165.0210     5.0          15   \n",
       "3            0         0.042278        12.15  126.5046     5.0          25   \n",
       "4            2         0.033970        19.60   55.1614     5.0          10   \n",
       "\n",
       "   Item Fat Content_Regular  Item Type_Breads  Item Type_Breakfast  \\\n",
       "0                      True             False                False   \n",
       "1                     False             False                False   \n",
       "2                      True             False                False   \n",
       "3                      True             False                False   \n",
       "4                     False             False                False   \n",
       "\n",
       "   Item Type_Canned  ...  Outlet Identifier_OUT045  Outlet Identifier_OUT046  \\\n",
       "0             False  ...                     False                     False   \n",
       "1             False  ...                     False                     False   \n",
       "2             False  ...                     False                      True   \n",
       "3              True  ...                     False                     False   \n",
       "4             False  ...                      True                     False   \n",
       "\n",
       "   Outlet Identifier_OUT049  Outlet Location Type_Tier 2  \\\n",
       "0                      True                        False   \n",
       "1                     False                        False   \n",
       "2                     False                        False   \n",
       "3                     False                        False   \n",
       "4                     False                         True   \n",
       "\n",
       "   Outlet Location Type_Tier 3  Outlet Type_Supermarket Type1  \\\n",
       "0                        False                           True   \n",
       "1                         True                          False   \n",
       "2                        False                           True   \n",
       "3                         True                           True   \n",
       "4                        False                           True   \n",
       "\n",
       "   Outlet Type_Supermarket Type2  Outlet Type_Supermarket Type3  \\\n",
       "0                          False                          False   \n",
       "1                           True                          False   \n",
       "2                          False                          False   \n",
       "3                          False                          False   \n",
       "4                          False                          False   \n",
       "\n",
       "   Item Category_Food  Item Category_Non-Consumable  \n",
       "0                True                         False  \n",
       "1               False                          True  \n",
       "2                True                         False  \n",
       "3                True                         False  \n",
       "4               False                         False  \n",
       "\n",
       "[5 rows x 38 columns]"
      ]
     },
     "execution_count": 32,
     "metadata": {},
     "output_type": "execute_result"
    }
   ],
   "source": [
    "df_copy.head()"
   ]
  },
  {
   "cell_type": "markdown",
   "id": "efe2f267",
   "metadata": {},
   "source": [
    "## Feature standardisation and splitting for train and test"
   ]
  },
  {
   "cell_type": "code",
   "execution_count": 33,
   "id": "a161c874",
   "metadata": {},
   "outputs": [],
   "source": [
    "#Define features and target\n",
    "X = df_copy.drop('Sales', axis=1)\n",
    "y = df_copy['Sales']"
   ]
  },
  {
   "cell_type": "code",
   "execution_count": 34,
   "id": "ba330a5c",
   "metadata": {},
   "outputs": [],
   "source": [
    "#split data into training and test data\n",
    "from sklearn.model_selection import train_test_split\n",
    "\n",
    "X_train, X_test, y_train, y_test = train_test_split(X, y, test_size=0.2, random_state=42)"
   ]
  },
  {
   "cell_type": "code",
   "execution_count": 35,
   "id": "4e324a54",
   "metadata": {},
   "outputs": [],
   "source": [
    "from sklearn.preprocessing import StandardScaler\n",
    "\n",
    "scaler = StandardScaler()\n",
    "X_train_scaled = scaler.fit_transform(X_train)\n",
    "X_test_scaled = scaler.transform(X_test)"
   ]
  },
  {
   "cell_type": "markdown",
   "id": "9bd8be4b",
   "metadata": {},
   "source": [
    "## Model building and training starts"
   ]
  },
  {
   "cell_type": "code",
   "execution_count": 43,
   "id": "aa4049a5",
   "metadata": {},
   "outputs": [
    {
     "name": "stdout",
     "output_type": "stream",
     "text": [
      "--- Training Linear Regression Model ---\n",
      "Linear Regression training complete.\n",
      "\n",
      "--- Running GridSearchCV for SVR ---\n",
      "Fitting 3 folds for each of 12 candidates, totalling 36 fits\n",
      "Best R2 Score for SVR: -0.0009\n",
      "Best Parameters for SVR: {'C': 0.1, 'gamma': 'scale', 'kernel': 'rbf'}\n",
      "\n",
      "--- Running GridSearchCV for RandomForest ---\n",
      "Fitting 3 folds for each of 24 candidates, totalling 72 fits\n",
      "Best R2 Score for RandomForest: 0.3638\n",
      "Best Parameters for RandomForest: {'max_depth': None, 'min_samples_leaf': 1, 'min_samples_split': 2, 'n_estimators': 200}\n",
      "\n",
      "\n",
      "--- Evaluating Best Models on the Test Set ---\n",
      "LinearRegression:\n",
      "  Test R2 Score: 0.0182\n",
      "  Test MAE: 52.36\n",
      "  Test RMSE: 62.36\n",
      "\n",
      "SVR:\n",
      "  Test R2 Score: -0.0020\n",
      "  Test MAE: 52.86\n",
      "  Test RMSE: 63.00\n",
      "\n",
      "RandomForest:\n",
      "  Test R2 Score: 0.5287\n",
      "  Test MAE: 32.26\n",
      "  Test RMSE: 43.21\n",
      "\n"
     ]
    }
   ],
   "source": [
    "# --- 1. Import Necessary Libraries ---\n",
    "import numpy as np\n",
    "from sklearn.linear_model import LinearRegression\n",
    "from sklearn.svm import SVR\n",
    "from sklearn.ensemble import RandomForestRegressor\n",
    "from sklearn.model_selection import GridSearchCV\n",
    "from sklearn.metrics import r2_score, mean_absolute_error, mean_squared_error\n",
    "\n",
    "# Assume X_train, X_test, y_train, y_test are already defined\n",
    "# Assume X_train_scaled and X_test_scaled are also defined\n",
    "\n",
    "# --- 2. Train Linear Regression Separately ---\n",
    "# Linear Regression has no hyperparameters to tune, so we train it directly.\n",
    "# It's good practice to use scaled data for linear models.\n",
    "print(\"--- Training Linear Regression Model ---\")\n",
    "lr_model = LinearRegression()\n",
    "lr_model.fit(X_train_scaled, y_train)\n",
    "print(\"Linear Regression training complete.\\n\")\n",
    "\n",
    "\n",
    "# --- 3. Define Models and Grids for GridSearchCV ---\n",
    "# We now only include models that require hyperparameter tuning.\n",
    "models = {\n",
    "    'SVR': SVR(),\n",
    "    'RandomForest': RandomForestRegressor(random_state=42)\n",
    "}\n",
    "\n",
    "param_grids = {\n",
    "    'SVR': {\n",
    "        'kernel': ['linear', 'rbf'],\n",
    "        'C': [0.1, 1, 10],\n",
    "        'gamma': ['scale', 'auto']\n",
    "    },\n",
    "    'RandomForest': {\n",
    "        'n_estimators': [100, 200],\n",
    "        'max_depth': [10, 20, None],\n",
    "        'min_samples_split': [2, 5],\n",
    "        'min_samples_leaf': [1, 2]\n",
    "    }\n",
    "}\n",
    "\n",
    "# --- 4. Run GridSearchCV for Tunable Models ---\n",
    "\n",
    "best_estimators = {}\n",
    "# Add the pre-trained Linear Regression model to our collection of best models\n",
    "best_estimators['LinearRegression'] = lr_model\n",
    "\n",
    "for model_name in models:\n",
    "    print(f\"--- Running GridSearchCV for {model_name} ---\")\n",
    "    model = models[model_name]\n",
    "    params = param_grids[model_name]\n",
    "\n",
    "    # Use scaled data for SVR, and original data for RandomForest\n",
    "    current_X_train = X_train_scaled if model_name == 'SVR' else X_train\n",
    "\n",
    "    grid_search = GridSearchCV(estimator=model,\n",
    "                               param_grid=params,\n",
    "                               cv=3,\n",
    "                               n_jobs=-1,\n",
    "                               scoring='r2',\n",
    "                               verbose=2)\n",
    "\n",
    "    grid_search.fit(current_X_train, y_train)\n",
    "\n",
    "    best_estimators[model_name] = grid_search.best_estimator_\n",
    "\n",
    "    print(f\"Best R2 Score for {model_name}: {grid_search.best_score_:.4f}\")\n",
    "    print(f\"Best Parameters for {model_name}: {grid_search.best_params_}\\n\")\n",
    "\n",
    "\n",
    "# --- 5. Evaluate All Models on the Test Set ---\n",
    "print(\"\\n--- Evaluating Best Models on the Test Set ---\")\n",
    "\n",
    "for model_name, model in best_estimators.items():\n",
    "    # Use the appropriate test data (scaled for LR and SVR)\n",
    "    if model_name in ['LinearRegression', 'SVR']:\n",
    "        current_X_test = X_test_scaled\n",
    "    else:\n",
    "        current_X_test = X_test\n",
    "\n",
    "    # Make predictions\n",
    "    y_pred = model.predict(current_X_test)\n",
    "    \n",
    "    # Calculate metrics\n",
    "    r2 = r2_score(y_test, y_pred)\n",
    "    mae = mean_absolute_error(y_test, y_pred)\n",
    "    rmse = np.sqrt(mean_squared_error(y_test, y_pred)) # Calculate RMSE\n",
    "    \n",
    "    # Print results\n",
    "    print(f\"{model_name}:\")\n",
    "    print(f\"  Test R2 Score: {r2:.4f}\")\n",
    "    print(f\"  Test MAE: {mae:.2f}\")\n",
    "    print(f\"  Test RMSE: {rmse:.2f}\\n\") # Print the new metric"
   ]
  },
  {
   "cell_type": "code",
   "execution_count": null,
   "id": "ca659d0a",
   "metadata": {},
   "outputs": [],
   "source": []
  }
 ],
 "metadata": {
  "kernelspec": {
   "display_name": "Python 3",
   "language": "python",
   "name": "python3"
  },
  "language_info": {
   "codemirror_mode": {
    "name": "ipython",
    "version": 3
   },
   "file_extension": ".py",
   "mimetype": "text/x-python",
   "name": "python",
   "nbconvert_exporter": "python",
   "pygments_lexer": "ipython3",
   "version": "3.13.2"
  }
 },
 "nbformat": 4,
 "nbformat_minor": 5
}
